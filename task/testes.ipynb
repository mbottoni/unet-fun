{
 "cells": [
  {
   "cell_type": "code",
   "execution_count": 26,
   "metadata": {},
   "outputs": [],
   "source": [
    "import os\n",
    "import shutil\n",
    "import deeplake\n",
    "from PIL import Image\n",
    "import numpy as np\n",
    "import matplotlib.pyplot as plt"
   ]
  },
  {
   "cell_type": "code",
   "execution_count": 4,
   "metadata": {},
   "outputs": [
    {
     "data": {
      "text/plain": [
       "'\\n# Get a list of image files for validation\\nval_imgs = os.listdir(train_images_dir)[:200]\\n\\n# Iterate through validation images\\nfor img in val_imgs:\\n    # Extract the prefix (filename without extension)\\n    img_prefix = os.path.splitext(img)[0]\\n\\n    # Find the corresponding mask file\\n    matching_masks = [mask for mask in os.listdir(train_masks_dir) if mask.startswith(img_prefix)]\\n\\n    if len(matching_masks) == 1:\\n        # Move image file to val_images\\n        shutil.move(os.path.join(train_images_dir, img), os.path.join(val_images_dir, img))\\n        \\n        # Move mask file to val_masks\\n        shutil.move(os.path.join(train_masks_dir, matching_masks[0]), os.path.join(val_masks_dir, matching_masks[0]))\\n    else:\\n        print(f\"No or multiple masks found for {img_prefix}\")\\n'"
      ]
     },
     "execution_count": 4,
     "metadata": {},
     "output_type": "execute_result"
    }
   ],
   "source": [
    "'''\n",
    "# Get a list of image files for validation\n",
    "val_imgs = os.listdir(train_images_dir)[:200]\n",
    "\n",
    "# Iterate through validation images\n",
    "for img in val_imgs:\n",
    "    # Extract the prefix (filename without extension)\n",
    "    img_prefix = os.path.splitext(img)[0]\n",
    "\n",
    "    # Find the corresponding mask file\n",
    "    matching_masks = [mask for mask in os.listdir(train_masks_dir) if mask.startswith(img_prefix)]\n",
    "\n",
    "    if len(matching_masks) == 1:\n",
    "        # Move image file to val_images\n",
    "        shutil.move(os.path.join(train_images_dir, img), os.path.join(val_images_dir, img))\n",
    "        \n",
    "        # Move mask file to val_masks\n",
    "        shutil.move(os.path.join(train_masks_dir, matching_masks[0]), os.path.join(val_masks_dir, matching_masks[0]))\n",
    "    else:\n",
    "        print(f\"No or multiple masks found for {img_prefix}\")\n",
    "'''"
   ]
  },
  {
   "cell_type": "code",
   "execution_count": 18,
   "metadata": {},
   "outputs": [
    {
     "name": "stderr",
     "output_type": "stream",
     "text": [
      "\\"
     ]
    },
    {
     "name": "stdout",
     "output_type": "stream",
     "text": [
      "This dataset can be visualized in Jupyter Notebook by ds.visualize() or at https://app.activeloop.ai/activeloop/drive-train\n",
      "\n"
     ]
    },
    {
     "name": "stderr",
     "output_type": "stream",
     "text": [
      "|"
     ]
    },
    {
     "name": "stdout",
     "output_type": "stream",
     "text": [
      "hub://activeloop/drive-train loaded successfully.\n",
      "\n"
     ]
    },
    {
     "name": "stderr",
     "output_type": "stream",
     "text": [
      "\\"
     ]
    },
    {
     "name": "stdout",
     "output_type": "stream",
     "text": [
      "This dataset can be visualized in Jupyter Notebook by ds.visualize() or at https://app.activeloop.ai/activeloop/drive-test\n",
      "\n"
     ]
    },
    {
     "name": "stderr",
     "output_type": "stream",
     "text": [
      "|"
     ]
    },
    {
     "name": "stdout",
     "output_type": "stream",
     "text": [
      "hub://activeloop/drive-test loaded successfully.\n",
      "\n"
     ]
    },
    {
     "name": "stderr",
     "output_type": "stream",
     "text": [
      " \r"
     ]
    }
   ],
   "source": [
    "ds_train = deeplake.load(\"hub://activeloop/drive-train\")\n",
    "ds_val   = deeplake.load(\"hub://activeloop/drive-test\")"
   ]
  },
  {
   "cell_type": "code",
   "execution_count": 21,
   "metadata": {},
   "outputs": [
    {
     "name": "stdout",
     "output_type": "stream",
     "text": [
      "Dataset(path='hub://activeloop/drive-train', read_only=True, tensors=['rgb_images', 'manual_masks/mask', 'masks/mask'])\n",
      "\n",
      "      tensor           htype           shape         dtype  compression\n",
      "      -------         -------         -------       -------  ------- \n",
      "    rgb_images         image     (20, 584, 565, 3)   uint8    tiff   \n",
      " manual_masks/mask  binary_mask  (20, 584, 565, 2)   bool      lz4   \n",
      "    masks/mask      binary_mask  (20, 584, 565, 2)   bool      lz4   \n"
     ]
    }
   ],
   "source": [
    "ds_train.summary()"
   ]
  },
  {
   "cell_type": "code",
   "execution_count": 47,
   "metadata": {},
   "outputs": [],
   "source": [
    "train_save_dir = \"data/train_images\"\n",
    "for i, sample in enumerate(ds_train):\n",
    "    image_tensor = sample[\"rgb_images\"]  # Assuming \"image\" is the key for the image in the dataset\n",
    "    image_array = np.array(image_tensor)  # Convert the tensor to a numpy array\n",
    "    image = Image.fromarray(image_array)  # Create an image object from the numpy array\n",
    "    image.save(f\"{train_save_dir}/image_{i}.png\")  # Save the image with a unique filename"
   ]
  },
  {
   "cell_type": "code",
   "execution_count": 48,
   "metadata": {},
   "outputs": [],
   "source": [
    "train_save_dir = \"data/train_masks\"\n",
    "for i, sample in enumerate(ds_train):\n",
    "    image_tensor = sample[\"manual_masks/mask\"]  # Assuming \"image\" is the key for the image in the dataset\n",
    "    #print(image_tensor.shape)\n",
    "    image_tensor = image_tensor[:,:,0]\n",
    "    image_array = np.array(image_tensor)  # Convert the tensor to a numpy array\n",
    "    image = Image.fromarray(image_array)  # Create an image object from the numpy array\n",
    "    image.save(f\"{train_save_dir}/image_{i}_mask.png\")  # Save the image with a unique filename"
   ]
  },
  {
   "cell_type": "code",
   "execution_count": 49,
   "metadata": {},
   "outputs": [],
   "source": [
    "train_save_dir = \"data/val_images\"\n",
    "for i, sample in enumerate(ds_val):\n",
    "    image_tensor = sample[\"rgb_images\"]  # Assuming \"image\" is the key for the image in the dataset\n",
    "    image_array = np.array(image_tensor)  # Convert the tensor to a numpy array\n",
    "    image = Image.fromarray(image_array)  # Create an image object from the numpy array\n",
    "    image.save(f\"{train_save_dir}/image_{i}.png\")  # Save the image with a unique filename"
   ]
  },
  {
   "cell_type": "code",
   "execution_count": 50,
   "metadata": {},
   "outputs": [],
   "source": [
    "train_save_dir = \"data/val_masks\"\n",
    "for i, sample in enumerate(ds_train):\n",
    "    image_tensor = sample[\"manual_masks/mask\"]  # Assuming \"image\" is the key for the image in the dataset\n",
    "    #print(image_tensor.shape)\n",
    "    image_tensor = image_tensor[:,:,0]\n",
    "    image_array = np.array(image_tensor)  # Convert the tensor to a numpy array\n",
    "    image = Image.fromarray(image_array)  # Create an image object from the numpy array\n",
    "    image.save(f\"{train_save_dir}/image_{i}_mask.png\")  # Save the image with a unique filename"
   ]
  },
  {
   "cell_type": "code",
   "execution_count": 46,
   "metadata": {},
   "outputs": [
    {
     "name": "stdout",
     "output_type": "stream",
     "text": [
      "(584, 565, 3)\n",
      "(584, 565, 3)\n",
      "(584, 565, 3)\n",
      "(584, 565, 3)\n",
      "(584, 565, 3)\n",
      "(584, 565, 3)\n",
      "(584, 565, 3)\n",
      "(584, 565, 3)\n",
      "(584, 565, 3)\n",
      "(584, 565, 3)\n",
      "(584, 565, 3)\n",
      "(584, 565, 3)\n",
      "(584, 565, 3)\n",
      "(584, 565, 3)\n",
      "(584, 565, 3)\n",
      "(584, 565, 3)\n",
      "(584, 565, 3)\n",
      "(584, 565, 3)\n",
      "(584, 565, 3)\n",
      "(584, 565, 3)\n"
     ]
    }
   ],
   "source": [
    "for i, sample in enumerate(ds_val):\n",
    "    image_tensor = sample[\"rgb_images\"]  # Assuming \"image\" is the key for the image in the dataset\n",
    "    print(image_tensor.shape)"
   ]
  },
  {
   "cell_type": "code",
   "execution_count": 51,
   "metadata": {},
   "outputs": [
    {
     "name": "stdout",
     "output_type": "stream",
     "text": [
      "Converted 16_manual1.gif to PNG\n",
      "Converted 03_manual1.gif to PNG\n",
      "Converted 06_manual1.gif to PNG\n",
      "Converted 13_manual1.gif to PNG\n",
      "Converted 10_manual1.gif to PNG\n",
      "Converted 19_manual1.gif to PNG\n",
      "Converted 05_manual1.gif to PNG\n",
      "Converted 15_manual1.gif to PNG\n",
      "Converted 09_manual1.gif to PNG\n",
      "Converted 12_manual1.gif to PNG\n",
      "Converted 20_manual1.gif to PNG\n",
      "Converted 07_manual1.gif to PNG\n",
      "Converted 02_manual1.gif to PNG\n",
      "Converted 17_manual1.gif to PNG\n",
      "Converted 08_manual1.gif to PNG\n",
      "Converted 14_manual1.gif to PNG\n",
      "Converted 01_manual1.gif to PNG\n",
      "Converted 04_manual1.gif to PNG\n",
      "Converted 18_manual1.gif to PNG\n",
      "Converted 11_manual1.gif to PNG\n",
      "Conversion complete.\n"
     ]
    }
   ],
   "source": [
    "from PIL import Image\n",
    "import os\n",
    "\n",
    "# Specify the input directory containing GIF files and the output directory for PNG files\n",
    "input_directory = \"data/val_masks\"\n",
    "output_directory = \"data/val_masks/\"\n",
    "\n",
    "# Ensure the output directory exists\n",
    "os.makedirs(output_directory, exist_ok=True)\n",
    "\n",
    "# List all files in the input directory\n",
    "files = os.listdir(input_directory)\n",
    "\n",
    "# Loop through the files in the input directory\n",
    "for file_name in files:\n",
    "    if file_name.endswith(\".gif\"):\n",
    "        # Open the GIF file\n",
    "        input_path = os.path.join(input_directory, file_name)\n",
    "        gif_image = Image.open(input_path)\n",
    "        \n",
    "        # Convert the GIF image to PNG\n",
    "        png_image = gif_image.convert(\"RGBA\")  # Convert to RGBA mode (for transparency support)\n",
    "        \n",
    "        # Save the PNG image to the output directory with the same name\n",
    "        output_path = os.path.join(output_directory, os.path.splitext(file_name)[0] + \".png\")\n",
    "        png_image.save(output_path, \"PNG\")\n",
    "        print(f\"Converted {file_name} to PNG\")\n",
    "\n",
    "print(\"Conversion complete.\")\n"
   ]
  },
  {
   "cell_type": "code",
   "execution_count": null,
   "metadata": {},
   "outputs": [],
   "source": []
  },
  {
   "cell_type": "code",
   "execution_count": null,
   "metadata": {},
   "outputs": [],
   "source": []
  },
  {
   "cell_type": "code",
   "execution_count": null,
   "metadata": {},
   "outputs": [],
   "source": []
  }
 ],
 "metadata": {
  "kernelspec": {
   "display_name": "Python 3",
   "language": "python",
   "name": "python3"
  },
  "language_info": {
   "codemirror_mode": {
    "name": "ipython",
    "version": 3
   },
   "file_extension": ".py",
   "mimetype": "text/x-python",
   "name": "python",
   "nbconvert_exporter": "python",
   "pygments_lexer": "ipython3",
   "version": "3.8.16"
  },
  "orig_nbformat": 4
 },
 "nbformat": 4,
 "nbformat_minor": 2
}
